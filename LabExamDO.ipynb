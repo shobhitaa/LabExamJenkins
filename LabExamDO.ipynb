{
  "nbformat": 4,
  "nbformat_minor": 0,
  "metadata": {
    "colab": {
      "name": "LabExamDO.ipynb",
      "provenance": []
    },
    "kernelspec": {
      "name": "python3",
      "display_name": "Python 3"
    },
    "language_info": {
      "name": "python"
    }
  },
  "cells": [
    {
      "cell_type": "code",
      "execution_count": 1,
      "metadata": {
        "colab": {
          "base_uri": "https://localhost:8080/"
        },
        "id": "oSLDrh5yndza",
        "outputId": "98898f7e-4169-4925-bf7e-002ecdd27383"
      },
      "outputs": [
        {
          "output_type": "stream",
          "name": "stdout",
          "text": [
            "Courses of this semester:\n",
            "1. Devops\n",
            "2. SPM\n",
            "3. HPC\n",
            "4. Enviornment and sustainability\n",
            "5. Undergraduate research\n",
            "6. Seminar in special topics\n",
            "7. Career Skills\n",
            "8. Communication skills\n",
            "9. Marketing Strategies\n"
          ]
        }
      ],
      "source": [
        "print(\"Courses of this semester:\")\n",
        "print(\"1. Devops\")\n",
        "print(\"2. SPM\")\n",
        "print(\"3. HPC\")\n",
        "print(\"4. Enviornment and sustainability\")\n",
        "print(\"5. Undergraduate research\")\n",
        "print(\"6. Seminar in special topics\")\n",
        "print(\"7. Career Skills\")\n",
        "print(\"8. Communication skills\")\n",
        "print(\"9. Marketing Strategies\")"
      ]
    }
  ]
}